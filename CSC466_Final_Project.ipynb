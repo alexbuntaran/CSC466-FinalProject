{
  "cells": [
    {
      "cell_type": "markdown",
      "metadata": {
        "id": "UFdWTv7kGm7Q"
      },
      "source": [
        "# **Imports**"
      ]
    },
    {
      "cell_type": "code",
      "execution_count": null,
      "metadata": {
        "id": "dvQViMFq7BFt"
      },
      "outputs": [],
      "source": [
        "import pandas as pd\n",
        "import numpy as np\n",
        "import matplotlib.pyplot as plt\n",
        "import seaborn as sns\n",
        "%matplotlib inline\n",
        "from sklearn.model_selection import train_test_split\n",
        "from sklearn.preprocessing import OneHotEncoder, StandardScaler\n",
        "from sklearn.linear_model import LinearRegression\n",
        "from sklearn.ensemble import RandomForestRegressor\n",
        "from sklearn.metrics import mean_squared_error, r2_score\n",
        "pd.options.mode.chained_assignment = None  # default='warn'\n",
        "from sklearn.tree import export_graphviz\n",
        "import graphviz\n",
        "from mpl_toolkits.mplot3d import Axes3D\n",
        "import scipy"
      ]
    },
    {
      "cell_type": "code",
      "execution_count": null,
      "metadata": {
        "colab": {
          "base_uri": "https://localhost:8080/"
        },
        "id": "q2ba850_6beB",
        "outputId": "4433ddbc-012d-473f-cce6-df27dccddb57"
      },
      "outputs": [],
      "source": [
        "!pip install opendatasets"
      ]
    },
    {
      "cell_type": "code",
      "execution_count": null,
      "metadata": {
        "colab": {
          "base_uri": "https://localhost:8080/"
        },
        "id": "aPhUkpnG6glO",
        "outputId": "eea7bc1d-5e51-4e0c-b28b-9ee0151523a0"
      },
      "outputs": [],
      "source": [
        "import opendatasets as od\n",
        "od.download(\n",
        "    \"https://www.kaggle.com/datasets/mohithsairamreddy/salary-data/data\")"
      ]
    },
    {
      "cell_type": "markdown",
      "metadata": {
        "id": "qC2lJYf7GuXi"
      },
      "source": [
        "# **Data Cleaning**"
      ]
    },
    {
      "cell_type": "code",
      "execution_count": null,
      "metadata": {
        "colab": {
          "base_uri": "https://localhost:8080/",
          "height": 456
        },
        "id": "Y_yAAE3m642B",
        "outputId": "b315609c-9929-492b-d270-6b84c4fc25fe"
      },
      "outputs": [],
      "source": [
        "df_salaries_uncleaned = pd.read_csv(\"/content/salary-data/Salary_Data.csv\")\n",
        "df_salaries_cleaned = df_salaries_uncleaned.dropna()      # drop null entires\n",
        "df_salaries_cleaned['Education Level'] = df_salaries_cleaned['Education Level'].replace(\"Bachelor's Degree\", \"Bachelor's\")      # standardize education level categories\n",
        "df_salaries_cleaned['Education Level'] = df_salaries_cleaned['Education Level'].replace(\"Master's Degree\",\"Master's\")\n",
        "df_salaries_cleaned['Education Level'] = df_salaries_cleaned['Education Level'].replace(\"phD\",\"PhD\")\n",
        "df_salaries_cleaned['Age'] = df_salaries_cleaned['Age'].astype('int')\n",
        "df_salaries_cleaned['Years of Experience'] = df_salaries_cleaned['Years of Experience'].astype('int')\n",
        "df_salaries_cleaned['Monthly Salary'] = df_salaries_cleaned['Years of Experience'].astype('int')\n",
        "df_salaries_cleaned = df_salaries_cleaned.drop_duplicates()     # drop duplicate entries\n",
        "\n",
        "df_salaries_cleaned.info()\n",
        "df_salaries_cleaned.head()"
      ]
    },
    {
      "cell_type": "markdown",
      "metadata": {
        "id": "a1usLYFBG17G"
      },
      "source": [
        "# **Data Visualizations**"
      ]
    },
    {
      "cell_type": "code",
      "execution_count": null,
      "metadata": {
        "colab": {
          "base_uri": "https://localhost:8080/",
          "height": 1000
        },
        "id": "mBzThnOw008K",
        "outputId": "88020cf9-8333-42b2-bb44-32d002b3674c"
      },
      "outputs": [],
      "source": [
        "# Figue 1: Overall Data Distribution with Histograms\n",
        "fig, axes = plt.subplots(nrows=2, ncols=3, figsize=(12, 8))\n",
        "df_salaries_cleaned['Age'].plot(kind='hist', ax=axes[0, 0], title='Age')\n",
        "df_salaries_cleaned['Years of Experience'].plot(kind='hist', ax=axes[0, 1], title='Years of Experience')\n",
        "df_salaries_cleaned['Salary'].plot(kind='hist', ax=axes[0, 2], title='Salary')\n",
        "df_salaries_cleaned['Gender'].value_counts().plot(kind='bar', ax=axes[1, 0], title='Gender')\n",
        "df_salaries_cleaned['Education Level'].value_counts().plot(kind='bar', ax=axes[1, 1], title='Education')\n",
        "df_salaries_cleaned['Job Title'].value_counts()[:20].plot(kind='bar', ax=axes[1, 2], title='Top 20 Job Titles')\n",
        "fig.suptitle('Overall Data Distribution', fontsize=16)\n",
        "plt.tight_layout()\n",
        "\n",
        "# Figure 2: Data distribution - Salaries v. one factor\n",
        "fig, axes = plt.subplots(nrows=2, ncols=2, figsize=(12, 7))\n",
        "xfactor = 'Gender'\n",
        "g = sns.boxplot(x=xfactor, y='Salary', data=df_salaries_cleaned, ax=axes[0, 0], order=df_salaries_cleaned.groupby(xfactor)['Salary'].median().sort_values().index)\n",
        "g.set(title='Gender', xlabel=None)\n",
        "\n",
        "xfactor = 'Education Level'\n",
        "g = sns.boxplot(x=xfactor, y='Salary', data=df_salaries_cleaned, ax=axes[0, 1], order=df_salaries_cleaned.groupby(xfactor)['Salary'].median().sort_values().index)\n",
        "g.set(title='Education Level', xlabel=None)\n",
        "\n",
        "xfactor = 'Age'\n",
        "plt.xticks(rotation=90)\n",
        "g = sns.boxplot(x=xfactor, y='Salary', ax=axes[1, 0], data=df_salaries_cleaned)\n",
        "g.set(title='Age', xlabel=None)\n",
        "\n",
        "xfactor = 'Years of Experience'\n",
        "plt.xticks(rotation=90)\n",
        "g = sns.boxplot(x=xfactor, y='Salary', ax=axes[1, 1], data=df_salaries_cleaned)\n",
        "g.set(title='Years of Experience', xlabel=None)\n",
        "\n",
        "fig.suptitle('Data distribution - Salaries v. one factor', fontsize=16)\n",
        "plt.tight_layout()\n",
        "\n",
        "# Figure 3 & 4: Salary Distributions by Education Level and Years of Experience\n",
        "g = sns.displot(data=df_salaries_cleaned, x='Salary', hue='Education Level',multiple='stack')\n",
        "g.set(title='Salary Distribution By Education Level', xlabel=None)\n",
        "plt.xticks(rotation=45)\n",
        "g = sns.displot(data=df_salaries_cleaned, x='Salary', hue='Years of Experience',multiple='stack')\n",
        "g.set(title='Salary Distribution By Years of Experience', xlabel=None)\n",
        "p = plt.xticks(rotation=45)"
      ]
    },
    {
      "cell_type": "markdown",
      "metadata": {
        "id": "_iEuirF6G7Nx"
      },
      "source": [
        "# **Data Preprocessing**"
      ]
    },
    {
      "cell_type": "code",
      "execution_count": null,
      "metadata": {
        "colab": {
          "base_uri": "https://localhost:8080/"
        },
        "id": "YXEOhdFt7J5g",
        "outputId": "0b816ff9-cee4-4ef0-b25e-ff29de220cbc"
      },
      "outputs": [],
      "source": [
        "# Standardize categorical features\n",
        "categorical_columns = ['Gender', 'Education Level', 'Job Title']\n",
        "one_hot_encoder = OneHotEncoder(sparse=False)\n",
        "encoded_categorical = one_hot_encoder.fit_transform(df_salaries_cleaned[categorical_columns])\n",
        "\n",
        "encoded_categorical_columns = one_hot_encoder.get_feature_names_out(categorical_columns)\n",
        "\n",
        "encoded_categorical_df = pd.DataFrame(encoded_categorical, columns=encoded_categorical_columns)\n",
        "\n",
        "numeric_columns = ['Age', 'Years of Experience']\n",
        "target_column = ['Salary']\n",
        "final_df = pd.concat([\n",
        "    df_salaries_cleaned[numeric_columns].reset_index(drop=True),\n",
        "    encoded_categorical_df,\n",
        "    df_salaries_cleaned[target_column].reset_index(drop=True)\n",
        "], axis=1)\n",
        "\n",
        "X = final_df.drop('Salary', axis=1)\n",
        "y = final_df['Salary']\n",
        "\n",
        "# Standardize the numerical features\n",
        "scaler = StandardScaler()\n",
        "X[numeric_columns] = scaler.fit_transform(X[numeric_columns])\n",
        "\n",
        "# Split the dataset into a training set and a test set\n",
        "X_train, X_test, y_train, y_test = train_test_split(X, y, test_size=0.2, random_state=42)"
      ]
    },
    {
      "cell_type": "markdown",
      "metadata": {
        "id": "ZTqw1hlHHART"
      },
      "source": [
        "# **Linear Regression**"
      ]
    },
    {
      "cell_type": "markdown",
      "metadata": {
        "id": "02jWESjrHDdF"
      },
      "source": [
        "### Model Training"
      ]
    },
    {
      "cell_type": "code",
      "execution_count": null,
      "metadata": {
        "id": "lGMx2ubT7eB3"
      },
      "outputs": [],
      "source": [
        "linear_model = LinearRegression()\n",
        "linear_model.fit(X_train, y_train)\n",
        "\n",
        "y_pred_linear = linear_model.predict(X_test)"
      ]
    },
    {
      "cell_type": "markdown",
      "metadata": {
        "id": "HEMtqe1FHMVc"
      },
      "source": [
        "### Model Evaluation"
      ]
    },
    {
      "cell_type": "code",
      "execution_count": null,
      "metadata": {
        "colab": {
          "base_uri": "https://localhost:8080/"
        },
        "id": "9BoquuvTF4ki",
        "outputId": "63821062-e473-4a87-d5fc-75e5e3ad3c5e"
      },
      "outputs": [],
      "source": [
        "linear_mse = mean_squared_error(y_test, y_pred_linear)\n",
        "linear_r2 = r2_score(y_test, y_pred_linear)\n",
        "\n",
        "print(\"Linear Regression MSE Score: \", linear_mse)\n",
        "print(\"Linear Regression R^2 Score: \", linear_r2)"
      ]
    },
    {
      "cell_type": "markdown",
      "metadata": {
        "id": "ifM5A-t0HUDF"
      },
      "source": [
        "### Model Visualizations"
      ]
    },
    {
      "cell_type": "code",
      "execution_count": null,
      "metadata": {
        "colab": {
          "base_uri": "https://localhost:8080/",
          "height": 833
        },
        "id": "lKSMtqvVF5ch",
        "outputId": "54973e85-c0ec-4f93-c64d-1c9e28c59818"
      },
      "outputs": [],
      "source": [
        "df_salaries_cleaned_edulvl = df_salaries_cleaned\n",
        "df_salaries_cleaned_edulvl['Education Level'] = df_salaries_cleaned['Education Level'].replace(\"High School\", 1)\n",
        "df_salaries_cleaned_edulvl['Education Level'] = df_salaries_cleaned['Education Level'].replace(\"Bachelor's\", 2)\n",
        "df_salaries_cleaned_edulvl['Education Level'] = df_salaries_cleaned['Education Level'].replace(\"Master's\", 3)\n",
        "df_salaries_cleaned_edulvl['Education Level'] = df_salaries_cleaned['Education Level'].replace(\"PhD\", 4)\n",
        "\n",
        "# Multivariate Salary Model with Education Level and Years of Experience\n",
        "X = df_salaries_cleaned_edulvl[['Education Level', 'Years of Experience']].values.reshape(-1,2)\n",
        "Y = df_salaries_cleaned_edulvl['Salary']\n",
        "\n",
        "x = X[:, 0]\n",
        "y = X[:, 1]\n",
        "z = Y\n",
        "x_pred = np.linspace(0, 4)\n",
        "y_pred = np.linspace(0, 35)\n",
        "xx_pred, yy_pred = np.meshgrid(x_pred, y_pred)\n",
        "model_viz = np.array([xx_pred.flatten(), yy_pred.flatten()]).T\n",
        "\n",
        "ols = LinearRegression()\n",
        "model = ols.fit(X, Y)\n",
        "predicted = model.predict(model_viz)\n",
        "\n",
        "r2 = model.score(X, Y)\n",
        "plt.style.use('default')\n",
        "\n",
        "fig = plt.figure(figsize=(12, 4))\n",
        "\n",
        "ax1 = fig.add_subplot(131, projection='3d')\n",
        "ax2 = fig.add_subplot(132, projection='3d')\n",
        "ax3 = fig.add_subplot(133, projection='3d')\n",
        "\n",
        "axes = [ax1, ax2, ax3]\n",
        "\n",
        "for ax in axes:\n",
        "    ax.plot(x, y, z, color='k', zorder=15, linestyle='none', marker='o', alpha=0.01)\n",
        "    ax.scatter(xx_pred.flatten(), yy_pred.flatten(), predicted, facecolor=(0,0,0,0), s=5, edgecolor='#70b3f0')\n",
        "    ax.set_xlabel('Education Level', fontsize=12)\n",
        "    ax.set_ylabel('Years of Experience', fontsize=12)\n",
        "    ax.set_zlabel('Salary', fontsize=12)\n",
        "\n",
        "ax1.view_init(elev=28, azim=120)\n",
        "ax2.view_init(elev=4, azim=114)\n",
        "ax3.view_init(elev=60, azim=165)\n",
        "\n",
        "fig.suptitle('$R^2 = %.2f$' % r2, fontsize=20)\n",
        "\n",
        "fig.tight_layout()\n",
        "\n",
        "# Multivariate Salary Model with Age and Years of Experience\n",
        "X = df_salaries_cleaned[['Age', 'Years of Experience']].values.reshape(-1,2)\n",
        "Y = df_salaries_cleaned['Salary']\n",
        "\n",
        "x = X[:, 0]\n",
        "y = X[:, 1]\n",
        "z = Y\n",
        "\n",
        "x_pred = np.linspace(0,62)\n",
        "y_pred = np.linspace(0, 35)\n",
        "xx_pred, yy_pred = np.meshgrid(x_pred, y_pred)\n",
        "model_viz = np.array([xx_pred.flatten(), yy_pred.flatten()]).T\n",
        "\n",
        "ols = LinearRegression()\n",
        "model = ols.fit(X, Y)\n",
        "predicted = model.predict(model_viz)\n",
        "\n",
        "r2 = model.score(X, Y)\n",
        "plt.style.use('default')\n",
        "\n",
        "fig = plt.figure(figsize=(12, 4))\n",
        "\n",
        "ax1 = fig.add_subplot(131, projection='3d')\n",
        "ax2 = fig.add_subplot(132, projection='3d')\n",
        "ax3 = fig.add_subplot(133, projection='3d')\n",
        "\n",
        "axes = [ax1, ax2, ax3]\n",
        "\n",
        "for ax in axes:\n",
        "    ax.plot(x, y, z, color='k', zorder=15, linestyle='none', marker='o', alpha=0.01)\n",
        "    ax.scatter(xx_pred.flatten(), yy_pred.flatten(), predicted, facecolor=(0,0,0,0), s=5, edgecolor='#70b3f0')\n",
        "    ax.set_xlabel('Age', fontsize=12)\n",
        "    ax.set_ylabel('Years of Experience', fontsize=12)\n",
        "    ax.set_zlabel('Salary', fontsize=12)\n",
        "\n",
        "ax1.view_init(elev=28, azim=120)\n",
        "ax2.view_init(elev=4, azim=114)\n",
        "ax3.view_init(elev=60, azim=165)\n",
        "\n",
        "fig.suptitle('$R^2 = %.2f$' % r2, fontsize=20)\n",
        "\n",
        "fig.tight_layout()"
      ]
    },
    {
      "cell_type": "markdown",
      "metadata": {
        "id": "qcZqwUUKHdpd"
      },
      "source": [
        "# **K-Nearest Neighbors**"
      ]
    },
    {
      "cell_type": "markdown",
      "metadata": {
        "id": "Q5F2BCLBHm5V"
      },
      "source": [
        "### Model Training"
      ]
    },
    {
      "cell_type": "code",
      "execution_count": null,
      "metadata": {
        "id": "8PFJRwVt8PK1"
      },
      "outputs": [],
      "source": [
        "# KNN Model Training\n",
        "\n"
      ]
    },
    {
      "cell_type": "markdown",
      "metadata": {
        "id": "gZa3fA4yHoxG"
      },
      "source": [
        "### Model Evaluation"
      ]
    },
    {
      "cell_type": "code",
      "execution_count": null,
      "metadata": {
        "id": "QxUv-eQ1GBuI"
      },
      "outputs": [],
      "source": [
        "# KNN Model Evaluation"
      ]
    },
    {
      "cell_type": "markdown",
      "metadata": {
        "id": "OTjZqVvqHv4Z"
      },
      "source": [
        "### Model Visualizations"
      ]
    },
    {
      "cell_type": "code",
      "execution_count": null,
      "metadata": {
        "id": "5MyfmlbjGDes"
      },
      "outputs": [],
      "source": [
        "# KNN Model Visualizations"
      ]
    },
    {
      "cell_type": "markdown",
      "metadata": {
        "id": "vkZ5kRVFH0Yx"
      },
      "source": [
        "# **Random Forest**"
      ]
    },
    {
      "cell_type": "markdown",
      "metadata": {
        "id": "ywQZxV1OH3_3"
      },
      "source": [
        "### Model Training"
      ]
    },
    {
      "cell_type": "code",
      "execution_count": null,
      "metadata": {
        "id": "DLWrbp_j8RDh"
      },
      "outputs": [],
      "source": [
        "random_forest_model = RandomForestRegressor(n_estimators=100, random_state=42)\n",
        "random_forest_model.fit(X_train, y_train)\n",
        "\n",
        "y_pred_rf = random_forest_model.predict(X_test)"
      ]
    },
    {
      "cell_type": "markdown",
      "metadata": {
        "id": "hTnIVcswH6ur"
      },
      "source": [
        "### Model Evaluation"
      ]
    },
    {
      "cell_type": "code",
      "execution_count": null,
      "metadata": {
        "colab": {
          "base_uri": "https://localhost:8080/"
        },
        "id": "pu32bLyWGHe0",
        "outputId": "b106dc77-6fcd-4c47-b471-bcdcc710a80d"
      },
      "outputs": [],
      "source": [
        "# Random Forest Model Evaluation\n",
        "rf_mse = mean_squared_error(y_test, y_pred_rf)\n",
        "rf_r2 = r2_score(y_test, y_pred_rf)\n",
        "\n",
        "print(\"Random Forest MSE Score: \", rf_mse)\n",
        "print(\"Random Forest R^2 Score: \", rf_r2)\n",
        "\n",
        "from sklearn.model_selection import cross_val_score\n",
        "from sklearn.metrics import make_scorer, mean_squared_error\n",
        "\n",
        "# Define a scorer for cross-validation based on MSE\n",
        "mse_scorer = make_scorer(mean_squared_error, greater_is_better=False)\n",
        "\n",
        "# Perform cross-validation\n",
        "cv_scores = cross_val_score(random_forest_model, X, y, cv=5, scoring=mse_scorer)\n",
        "\n",
        "# Cross-validation scores\n",
        "print(\"Random Forest Cross-Validation MSE Scores:\", cv_scores)\n",
        "print(\"Random Forest Mean CV MSE:\", cv_scores.mean())"
      ]
    },
    {
      "cell_type": "markdown",
      "metadata": {
        "id": "o5xTv5wpH_vw"
      },
      "source": [
        "### Model Visualizations"
      ]
    },
    {
      "cell_type": "code",
      "execution_count": null,
      "metadata": {
        "colab": {
          "base_uri": "https://localhost:8080/",
          "height": 35
        },
        "id": "S7lXUA169HUC",
        "outputId": "d62767ac-1307-4639-d8ba-e9a9cfea5d17"
      },
      "outputs": [],
      "source": [
        "# Sample Decision Tree\n",
        "single_tree = random_forest_model.estimators_[0]\n",
        "dot_data = export_graphviz(single_tree, out_file=None,\n",
        "                           feature_names=X_train.columns,\n",
        "                           filled=True, rounded=True,\n",
        "                           special_characters=True, max_depth=3)\n",
        "\n",
        "graph = graphviz.Source(dot_data)\n",
        "graph.view()"
      ]
    },
    {
      "cell_type": "code",
      "execution_count": null,
      "metadata": {
        "colab": {
          "base_uri": "https://localhost:8080/",
          "height": 216
        },
        "id": "Y03v3BdGGQyx",
        "outputId": "4dad4374-1e44-486e-d147-128a106c3a21"
      },
      "outputs": [],
      "source": [
        "# Get feature importances\n",
        "importances = random_forest_model.feature_importances_\n",
        "\n",
        "# Convert the importances into a DataFrame\n",
        "feature_importance_df = pd.DataFrame({\n",
        "    'Feature': X.columns,\n",
        "    'Importance': importances\n",
        "})\n",
        "\n",
        "# Sort the DataFrame to get the most important features\n",
        "feature_importance_df = feature_importance_df.sort_values(by='Importance', ascending=False)\n",
        "\n",
        "# Select the top 5 most important features\n",
        "top_features = feature_importance_df.head(10)\n",
        "\n",
        "# Plotting\n",
        "plt.figure(figsize=(30, 6))\n",
        "plt.title('Top 10 Feature Importances Based on Random Forest Model')\n",
        "plt.bar(top_features['Feature'], top_features['Importance'], color='green')\n",
        "plt.ylabel('Importance')\n",
        "plt.xlabel('Features')\n",
        "plt.show()"
      ]
    }
  ],
  "metadata": {
    "colab": {
      "provenance": []
    },
    "kernelspec": {
      "display_name": "Python 3",
      "name": "python3"
    },
    "language_info": {
      "name": "python"
    }
  },
  "nbformat": 4,
  "nbformat_minor": 0
}
